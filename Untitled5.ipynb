{
  "nbformat": 4,
  "nbformat_minor": 0,
  "metadata": {
    "colab": {
      "provenance": []
    },
    "kernelspec": {
      "name": "python3",
      "display_name": "Python 3"
    },
    "language_info": {
      "name": "python"
    }
  },
  "cells": [
    {
      "cell_type": "code",
      "source": [
        "import numpy as np\n",
        "from sklearn.feature_extraction.text import CountVectorizer\n",
        "from sklearn.model_selection import train_test_split\n",
        "from sklearn.preprocessing import LabelEncoder\n",
        "from keras.models import Sequential\n",
        "from keras.layers import Dense\n",
        "\n",
        "# Sample data\n",
        "documents = [\n",
        "    \"This is a positive review.\",\n",
        "    \"Negative experience, would not recommend.\",\n",
        "    \"I loved this product, it's amazing.\",\n",
        "    \"Disappointed with the service.\",\n",
        "]\n",
        "labels = ['positive', 'negative', 'positive', 'negative']\n",
        "\n",
        "# Convert labels to numerical values\n",
        "label_encoder = LabelEncoder()\n",
        "encoded_labels = label_encoder.fit_transform(labels)\n",
        "\n",
        "# Vectorize the text data\n",
        "vectorizer = CountVectorizer()\n",
        "X = vectorizer.fit_transform(documents).toarray()\n",
        "\n",
        "# Split data into train and test sets\n",
        "X_train, X_test, y_train, y_test = train_test_split(X, encoded_labels, test_size=0.2, random_state=42)\n",
        "\n",
        "# Define the ANN model\n",
        "model = Sequential()\n",
        "model.add(Dense(128, input_shape=(X_train.shape[1],), activation='relu'))\n",
        "model.add(Dense(64, activation='relu'))\n",
        "model.add(Dense(1, activation='sigmoid'))\n",
        "\n",
        "# Compile the model\n",
        "model.compile(optimizer='adam', loss='binary_crossentropy', metrics=['accuracy'])\n",
        "\n",
        "# Train the model\n",
        "model.fit(X_train, y_train, epochs=10, batch_size=32, validation_data=(X_test, y_test))\n",
        "\n",
        "# Evaluate the model\n",
        "loss, accuracy = model.evaluate(X_test, y_test)\n",
        "print(f'Test Accuracy: {accuracy}')\n",
        "\n",
        "# Make predictions\n",
        "predictions = model.predict(X_test)\n",
        "predicted_labels = np.round(predictions).flatten()\n",
        "predicted_class = label_encoder.inverse_transform(predicted_labels.astype(int))\n",
        "print(\"Predicted labels:\", predicted_class)\n"
      ],
      "metadata": {
        "id": "5ClQqieZse8f",
        "outputId": "0adf745e-4a8e-4a6b-9ed5-4ae61bcfd5fa",
        "colab": {
          "base_uri": "https://localhost:8080/"
        }
      },
      "execution_count": 2,
      "outputs": [
        {
          "output_type": "stream",
          "name": "stdout",
          "text": [
            "Epoch 1/10\n",
            "1/1 [==============================] - 1s 1s/step - loss: 0.5878 - accuracy: 1.0000 - val_loss: 0.7238 - val_accuracy: 0.0000e+00\n",
            "Epoch 2/10\n",
            "1/1 [==============================] - 0s 58ms/step - loss: 0.5596 - accuracy: 1.0000 - val_loss: 0.7407 - val_accuracy: 0.0000e+00\n",
            "Epoch 3/10\n",
            "1/1 [==============================] - 0s 39ms/step - loss: 0.5333 - accuracy: 1.0000 - val_loss: 0.7578 - val_accuracy: 0.0000e+00\n",
            "Epoch 4/10\n",
            "1/1 [==============================] - 0s 36ms/step - loss: 0.5086 - accuracy: 1.0000 - val_loss: 0.7744 - val_accuracy: 0.0000e+00\n",
            "Epoch 5/10\n",
            "1/1 [==============================] - 0s 37ms/step - loss: 0.4858 - accuracy: 1.0000 - val_loss: 0.7914 - val_accuracy: 0.0000e+00\n",
            "Epoch 6/10\n",
            "1/1 [==============================] - 0s 37ms/step - loss: 0.4640 - accuracy: 1.0000 - val_loss: 0.8083 - val_accuracy: 0.0000e+00\n",
            "Epoch 7/10\n",
            "1/1 [==============================] - 0s 35ms/step - loss: 0.4428 - accuracy: 1.0000 - val_loss: 0.8252 - val_accuracy: 0.0000e+00\n",
            "Epoch 8/10\n",
            "1/1 [==============================] - 0s 57ms/step - loss: 0.4221 - accuracy: 1.0000 - val_loss: 0.8422 - val_accuracy: 0.0000e+00\n",
            "Epoch 9/10\n",
            "1/1 [==============================] - 0s 39ms/step - loss: 0.4019 - accuracy: 1.0000 - val_loss: 0.8590 - val_accuracy: 0.0000e+00\n",
            "Epoch 10/10\n",
            "1/1 [==============================] - 0s 38ms/step - loss: 0.3824 - accuracy: 1.0000 - val_loss: 0.8750 - val_accuracy: 0.0000e+00\n",
            "1/1 [==============================] - 0s 28ms/step - loss: 0.8750 - accuracy: 0.0000e+00\n",
            "Test Accuracy: 0.0\n",
            "1/1 [==============================] - 0s 92ms/step\n",
            "Predicted labels: ['positive']\n"
          ]
        }
      ]
    }
  ]
}